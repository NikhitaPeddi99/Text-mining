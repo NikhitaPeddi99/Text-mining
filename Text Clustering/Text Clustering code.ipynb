{
  "cells": [
    {
      "cell_type": "code",
      "execution_count": 2,
      "id": "845612ba",
      "metadata": {
        "id": "845612ba"
      },
      "outputs": [],
      "source": [
        "# Import necessary libraries\n",
        "import numpy as np\n",
        "import pandas as pd\n",
        "import matplotlib.pyplot as plt\n",
        "from scipy.cluster.hierarchy import ward, dendrogram\n",
        "from sklearn.metrics.pairwise import pairwise_distances\n",
        "from sklearn.cluster import AgglomerativeClustering\n",
        "from sklearn.cluster import KMeans\n",
        "from sklearn.metrics import silhouette_score\n",
        "from yellowbrick.cluster import KElbowVisualizer\n",
        "from wordcloud import WordCloud\n",
        "#! pip install yellowbrick"
      ]
    },
    {
      "cell_type": "code",
      "source": [
        "from google.colab import drive\n",
        "drive.mount('/content/drive')"
      ],
      "metadata": {
        "colab": {
          "base_uri": "https://localhost:8080/"
        },
        "id": "m-Uyl9TMbuVd",
        "outputId": "9ab861a9-0200-4615-a068-1c10bf014ce8"
      },
      "id": "m-Uyl9TMbuVd",
      "execution_count": 3,
      "outputs": [
        {
          "output_type": "stream",
          "name": "stdout",
          "text": [
            "Mounted at /content/drive\n"
          ]
        }
      ]
    },
    {
      "cell_type": "code",
      "execution_count": 4,
      "id": "ea4e086c",
      "metadata": {
        "scrolled": true,
        "id": "ea4e086c"
      },
      "outputs": [],
      "source": [
        "# Load the dataset\n",
        "article_data = pd.read_csv('/content/drive/MyDrive/dailykos.csv')"
      ]
    },
    {
      "cell_type": "code",
      "execution_count": 5,
      "id": "c90ef86f",
      "metadata": {
        "scrolled": true,
        "colab": {
          "base_uri": "https://localhost:8080/"
        },
        "id": "c90ef86f",
        "outputId": "05fc717d-9495-47bc-9d86-7e2a268e5440"
      },
      "outputs": [
        {
          "output_type": "stream",
          "name": "stdout",
          "text": [
            "(3430, 1545)\n",
            "   abandon  abc  ability  abortion  absolute  abstain  abu  abuse  accept  \\\n",
            "0        0    0        0         0         0        0    0      0       0   \n",
            "1        0    0        0         0         0        0    0      0       0   \n",
            "2        0    0        0         0         0        1    0      0       0   \n",
            "3        0    0        0         0         0        0    0      0       0   \n",
            "4        0    0        0         0         0        0    0      0       0   \n",
            "\n",
            "   access  ...  yeah  year  yesterday  york  youll  young  youre  youve  \\\n",
            "0       0  ...     0     0          0     0      0      0      0      0   \n",
            "1       0  ...     0     0          0     0      0      0      0      0   \n",
            "2       0  ...     0     0          0     0      0      0      0      0   \n",
            "3       0  ...     0     0          2     0      0      1      0      0   \n",
            "4       0  ...     0     1          1     0      0      1      0      0   \n",
            "\n",
            "   zogby  zone  \n",
            "0      0     1  \n",
            "1      0     0  \n",
            "2      0     0  \n",
            "3      0     0  \n",
            "4      0     0  \n",
            "\n",
            "[5 rows x 1545 columns]\n"
          ]
        }
      ],
      "source": [
        "# Reading the dataset\n",
        "print(article_data.shape)\n",
        "print(article_data.head())"
      ]
    },
    {
      "cell_type": "code",
      "source": [
        "print(article_data.describe())"
      ],
      "metadata": {
        "colab": {
          "base_uri": "https://localhost:8080/"
        },
        "id": "z0peR7IFh0qw",
        "outputId": "aa18d9bc-61da-4dff-823e-add1d98cdd74"
      },
      "id": "z0peR7IFh0qw",
      "execution_count": 6,
      "outputs": [
        {
          "output_type": "stream",
          "name": "stdout",
          "text": [
            "           abandon          abc      ability     abortion     absolute  \\\n",
            "count  3430.000000  3430.000000  3430.000000  3430.000000  3430.000000   \n",
            "mean      0.020408     0.034694     0.032362     0.035277     0.018659   \n",
            "std       0.157046     0.250326     0.185040     0.385177     0.145713   \n",
            "min       0.000000     0.000000     0.000000     0.000000     0.000000   \n",
            "25%       0.000000     0.000000     0.000000     0.000000     0.000000   \n",
            "50%       0.000000     0.000000     0.000000     0.000000     0.000000   \n",
            "75%       0.000000     0.000000     0.000000     0.000000     0.000000   \n",
            "max       2.000000     6.000000     2.000000    10.000000     3.000000   \n",
            "\n",
            "           abstain          abu        abuse       accept       access  ...  \\\n",
            "count  3430.000000  3430.000000  3430.000000  3430.000000  3430.000000  ...   \n",
            "mean      0.024781     0.053061     0.050146     0.054810     0.028280  ...   \n",
            "std       0.155481     0.498567     0.443801     0.289656     0.197872  ...   \n",
            "min       0.000000     0.000000     0.000000     0.000000     0.000000  ...   \n",
            "25%       0.000000     0.000000     0.000000     0.000000     0.000000  ...   \n",
            "50%       0.000000     0.000000     0.000000     0.000000     0.000000  ...   \n",
            "75%       0.000000     0.000000     0.000000     0.000000     0.000000  ...   \n",
            "max       1.000000    14.000000    14.000000     6.000000     4.000000  ...   \n",
            "\n",
            "              yeah         year    yesterday         york        youll  \\\n",
            "count  3430.000000  3430.000000  3430.000000  3430.000000  3430.000000   \n",
            "mean      0.031778     0.467055     0.081633     0.092711     0.021866   \n",
            "std       0.191338     0.990738     0.321824     0.426765     0.226142   \n",
            "min       0.000000     0.000000     0.000000     0.000000     0.000000   \n",
            "25%       0.000000     0.000000     0.000000     0.000000     0.000000   \n",
            "50%       0.000000     0.000000     0.000000     0.000000     0.000000   \n",
            "75%       0.000000     1.000000     0.000000     0.000000     0.000000   \n",
            "max       4.000000    10.000000     4.000000    14.000000     8.000000   \n",
            "\n",
            "             young        youre        youve        zogby         zone  \n",
            "count  3430.000000  3430.000000  3430.000000  3430.000000  3430.000000  \n",
            "mean      0.042274     0.067055     0.033528     0.118950     0.017784  \n",
            "std       0.263935     0.310494     0.201442     0.523985     0.165495  \n",
            "min       0.000000     0.000000     0.000000     0.000000     0.000000  \n",
            "25%       0.000000     0.000000     0.000000     0.000000     0.000000  \n",
            "50%       0.000000     0.000000     0.000000     0.000000     0.000000  \n",
            "75%       0.000000     0.000000     0.000000     0.000000     0.000000  \n",
            "max       5.000000     3.000000     3.000000    10.000000     4.000000  \n",
            "\n",
            "[8 rows x 1545 columns]\n"
          ]
        }
      ]
    },
    {
      "cell_type": "code",
      "execution_count": 7,
      "id": "ff875cda",
      "metadata": {
        "id": "ff875cda"
      },
      "outputs": [],
      "source": [
        "# Each row represents an article, and each column represents a word.\n",
        "# The values indicate how many times a word appears in an article."
      ]
    },
    {
      "cell_type": "markdown",
      "id": "9be4ae61",
      "metadata": {
        "id": "9be4ae61"
      },
      "source": [
        "# 1. Building a hierarchical clustering model"
      ]
    },
    {
      "cell_type": "code",
      "execution_count": 8,
      "id": "97e8e064",
      "metadata": {
        "id": "97e8e064"
      },
      "outputs": [],
      "source": [
        "# Calculate Euclidean distances between articles\n",
        "euclidean_distances = pairwise_distances(article_data, metric='euclidean')"
      ]
    },
    {
      "cell_type": "code",
      "execution_count": 9,
      "id": "ac08cc74",
      "metadata": {
        "scrolled": true,
        "colab": {
          "base_uri": "https://localhost:8080/"
        },
        "id": "ac08cc74",
        "outputId": "2b3f1d9e-cc43-40a1-f65c-939c2fff14a1"
      },
      "outputs": [
        {
          "output_type": "stream",
          "name": "stderr",
          "text": [
            "/usr/local/lib/python3.10/dist-packages/scipy/cluster/hierarchy.py:833: ClusterWarning: scipy.cluster: The symmetric non-negative hollow observation matrix looks suspiciously like an uncondensed distance matrix\n",
            "  return linkage(y, method='ward', metric='euclidean')\n"
          ]
        }
      ],
      "source": [
        "# Perform hierarchical clustering using Ward linkage\n",
        "ward_linkage_matrix = ward(euclidean_distances)"
      ]
    },
    {
      "cell_type": "code",
      "execution_count": 10,
      "id": "5e93018a",
      "metadata": {
        "colab": {
          "base_uri": "https://localhost:8080/",
          "height": 449
        },
        "id": "5e93018a",
        "outputId": "c0806dba-46a9-40a2-8461-44d3dc7f91dc"
      },
      "outputs": [
        {
          "output_type": "display_data",
          "data": {
            "text/plain": [
              "<Figure size 1000x500 with 1 Axes>"
            ],
            "image/png": "[encoded data removed]"
          },
          "metadata": {}
        }
      ],
      "source": [
        "# Plot the dendrogram\n",
        "fig, ax = plt.subplots(figsize=(10, 5))\n",
        "ax = dendrogram(ward_linkage_matrix,orientation='right', leaf_rotation=90, leaf_font_size=8)"
      ]
    },
    {
      "cell_type": "code",
      "execution_count": 11,
      "id": "90f30c3f",
      "metadata": {
        "scrolled": true,
        "colab": {
          "base_uri": "https://localhost:8080/",
          "height": 430
        },
        "id": "90f30c3f",
        "outputId": "197a439b-9c96-4347-cb8a-725160b82b5a"
      },
      "outputs": [
        {
          "output_type": "display_data",
          "data": {
            "text/plain": [
              "<Figure size 1000x500 with 1 Axes>"
            ],
            "image/png": "[encoded data removed]"
          },
          "metadata": {}
        }
      ],
      "source": [
        "# Remove x-axis labels for better visualization\n",
        "fig, ax = plt.subplots(figsize=(10, 5))\n",
        "dendrogram(ward_linkage_matrix, leaf_rotation=90, leaf_font_size=8)\n",
        "ax.set_xticks([])  # Remove x-axis ticks\n",
        "plt.show()"
      ]
    },
    {
      "cell_type": "markdown",
      "id": "f9dc71b4",
      "metadata": {
        "id": "f9dc71b4"
      },
      "source": [
        "Creating the distances may take time because there are many articles (n) and a high number of dimensions (1545 variables).\n",
        "The number of pairwise distances to compute is n(n-1)/2, and with high-dimensional data, it's computationally expensive."
      ]
    },
    {
      "cell_type": "markdown",
      "id": "863c3a88",
      "metadata": {
        "id": "863c3a88"
      },
      "source": [
        "# 2. Choosing the number of clusters"
      ]
    },
    {
      "cell_type": "code",
      "source": [
        "#Elbow method to decide the optimal number of clusters\n",
        "km=KMeans(random_state=42)\n",
        "viz=KElbowVisualizer(km,k=(2,10))\n",
        "viz.fit(article_data)\n",
        "print(viz.show())"
      ],
      "metadata": {
        "colab": {
          "base_uri": "https://localhost:8080/",
          "height": 839
        },
        "id": "1PZhiNIh_ITw",
        "outputId": "56c14bac-d944-4d7f-9952-e5976f3381e6"
      },
      "id": "1PZhiNIh_ITw",
      "execution_count": 12,
      "outputs": [
        {
          "output_type": "stream",
          "name": "stderr",
          "text": [
            "/usr/local/lib/python3.10/dist-packages/sklearn/cluster/_kmeans.py:870: FutureWarning: The default value of `n_init` will change from 10 to 'auto' in 1.4. Set the value of `n_init` explicitly to suppress the warning\n",
            "  warnings.warn(\n",
            "/usr/local/lib/python3.10/dist-packages/sklearn/cluster/_kmeans.py:870: FutureWarning: The default value of `n_init` will change from 10 to 'auto' in 1.4. Set the value of `n_init` explicitly to suppress the warning\n",
            "  warnings.warn(\n",
            "/usr/local/lib/python3.10/dist-packages/sklearn/cluster/_kmeans.py:870: FutureWarning: The default value of `n_init` will change from 10 to 'auto' in 1.4. Set the value of `n_init` explicitly to suppress the warning\n",
            "  warnings.warn(\n",
            "/usr/local/lib/python3.10/dist-packages/sklearn/cluster/_kmeans.py:870: FutureWarning: The default value of `n_init` will change from 10 to 'auto' in 1.4. Set the value of `n_init` explicitly to suppress the warning\n",
            "  warnings.warn(\n",
            "/usr/local/lib/python3.10/dist-packages/sklearn/cluster/_kmeans.py:870: FutureWarning: The default value of `n_init` will change from 10 to 'auto' in 1.4. Set the value of `n_init` explicitly to suppress the warning\n",
            "  warnings.warn(\n",
            "/usr/local/lib/python3.10/dist-packages/sklearn/cluster/_kmeans.py:870: FutureWarning: The default value of `n_init` will change from 10 to 'auto' in 1.4. Set the value of `n_init` explicitly to suppress the warning\n",
            "  warnings.warn(\n",
            "/usr/local/lib/python3.10/dist-packages/sklearn/cluster/_kmeans.py:870: FutureWarning: The default value of `n_init` will change from 10 to 'auto' in 1.4. Set the value of `n_init` explicitly to suppress the warning\n",
            "  warnings.warn(\n",
            "/usr/local/lib/python3.10/dist-packages/sklearn/cluster/_kmeans.py:870: FutureWarning: The default value of `n_init` will change from 10 to 'auto' in 1.4. Set the value of `n_init` explicitly to suppress the warning\n",
            "  warnings.warn(\n"
          ]
        },
        {
          "output_type": "display_data",
          "data": {
            "text/plain": [
              "<Figure size 800x550 with 2 Axes>"
            ],
            "image/png": "[encoded data removed]"
          },
          "metadata": {}
        },
        {
          "output_type": "stream",
          "name": "stdout",
          "text": [
            "Axes(0.125,0.11;0.775x0.77)\n"
          ]
        }
      ]
    },
    {
      "cell_type": "markdown",
      "id": "f81915bb",
      "metadata": {
        "id": "f81915bb"
      },
      "source": [
        "To cluster news articles, a good choice for the number of clusters could be 5, through the elbow mthd above. This allows readers to choose between articles biased towards\n",
        "1. Democrats\n",
        "2. Republicans\n",
        "3. War\n",
        "4. Foreign Policy\n",
        "5. Elections"
      ]
    },
    {
      "cell_type": "markdown",
      "id": "6f64088e",
      "metadata": {
        "id": "6f64088e"
      },
      "source": [
        "# 3. Analyzing clusters - Hierarchial Clustering"
      ]
    },
    {
      "cell_type": "code",
      "execution_count": 13,
      "id": "62014bba",
      "metadata": {
        "scrolled": true,
        "colab": {
          "base_uri": "https://localhost:8080/"
        },
        "id": "62014bba",
        "outputId": "c52c16d1-5cc0-4080-e99b-9cd694290880"
      },
      "outputs": [
        {
          "output_type": "stream",
          "name": "stderr",
          "text": [
            "/usr/local/lib/python3.10/dist-packages/sklearn/cluster/_agglomerative.py:983: FutureWarning: Attribute `affinity` was deprecated in version 1.2 and will be removed in 1.4. Use `metric` instead\n",
            "  warnings.warn(\n"
          ]
        }
      ],
      "source": [
        "num_clusters = 7\n",
        "hierarchical_clustering = AgglomerativeClustering(n_clusters=num_clusters, linkage=\"ward\", affinity=\"euclidean\")\n",
        "hierarchical_clustering.fit(article_data)\n",
        "hierarchical_labels = hierarchical_clustering.labels_ +1\n",
        "cluster_counts = pd.Series(hierarchical_labels).value_counts()"
      ]
    },
    {
      "cell_type": "code",
      "execution_count": 14,
      "id": "21d9b79e",
      "metadata": {
        "colab": {
          "base_uri": "https://localhost:8080/"
        },
        "id": "21d9b79e",
        "outputId": "1db4f6dd-eafe-403b-9b83-c0c7f04bf44e"
      },
      "outputs": [
        {
          "output_type": "execute_result",
          "data": {
            "text/plain": [
              "3    1761\n",
              "1     803\n",
              "4     324\n",
              "5     270\n",
              "2     167\n",
              "6      55\n",
              "7      50\n",
              "dtype: int64"
            ]
          },
          "metadata": {},
          "execution_count": 14
        }
      ],
      "source": [
        "cluster_counts"
      ]
    },
    {
      "cell_type": "code",
      "execution_count": 45,
      "id": "189cd143",
      "metadata": {
        "scrolled": true,
        "colab": {
          "base_uri": "https://localhost:8080/"
        },
        "id": "189cd143",
        "outputId": "731bd887-e8e5-40bb-eeb6-b36ecfd5dcd7"
      },
      "outputs": [
        {
          "output_type": "stream",
          "name": "stdout",
          "text": [
            "Number of observations in cluster 3: 1761\n",
            "Cluster with the most observations: 3\n",
            "Cluster with the fewest observations: 7\n"
          ]
        }
      ],
      "source": [
        "# Number of observations in cluster 3\n",
        "print(\"Number of observations in cluster 3:\", cluster_counts[3])\n",
        "# Cluster with the most observations\n",
        "print(\"Cluster with the most observations:\", cluster_counts.idxmax())\n",
        "# Cluster with the fewest observations\n",
        "print(\"Cluster with the fewest observations:\", cluster_counts.idxmin())"
      ]
    },
    {
      "cell_type": "code",
      "source": [
        "silhouette_score(article_data, hierarchical_labels)"
      ],
      "metadata": {
        "colab": {
          "base_uri": "https://localhost:8080/"
        },
        "id": "nbZbSdS4uFeX",
        "outputId": "bdc6b85a-103a-4aa7-dc00-015b6cc27392"
      },
      "id": "nbZbSdS4uFeX",
      "execution_count": 23,
      "outputs": [
        {
          "output_type": "execute_result",
          "data": {
            "text/plain": [
              "0.07102441653679625"
            ]
          },
          "metadata": {},
          "execution_count": 23
        }
      ]
    },
    {
      "cell_type": "markdown",
      "id": "37429a10",
      "metadata": {
        "id": "37429a10"
      },
      "source": [
        "# 4. Most frequent words in cluster 1"
      ]
    },
    {
      "cell_type": "code",
      "execution_count": 25,
      "id": "edbb936c",
      "metadata": {
        "colab": {
          "base_uri": "https://localhost:8080/"
        },
        "id": "edbb936c",
        "outputId": "8cf6e402-6d94-4a71-ab05-ea1abdd27e94"
      },
      "outputs": [
        {
          "output_type": "stream",
          "name": "stdout",
          "text": [
            "Top 6 words in cluster 1:\n",
            "poll          2.429639\n",
            "kerry         2.012453\n",
            "bush          1.922790\n",
            "democrat      1.823163\n",
            "republican    1.328767\n",
            "elect         1.165629\n",
            "dtype: float64\n",
            "Most frequent word in cluster 1: poll\n",
            "The most frequent word in cluster 1 in terms of average value is \"poll\" with a mean frequency of 2.4296388542963885.\n"
          ]
        }
      ],
      "source": [
        "cluster1_means = article_data[hierarchical_labels == 1].mean().sort_values(ascending=False) # Computing the mean of the values in cluster 1 and sorting them in descending order.\n",
        "top6_words = cluster1_means.head(6)\n",
        "print(\"Top 6 words in cluster 1:\")\n",
        "print(top6_words)\n",
        "most_frequent_word = top6_words.idxmax()\n",
        "print(\"Most frequent word in cluster 1:\", most_frequent_word)\n",
        "print(f'The most frequent word in cluster 1 in terms of average value is \"{most_frequent_word}\" with a mean frequency of {top6_words[most_frequent_word]}.')"
      ]
    },
    {
      "cell_type": "code",
      "source": [
        "topword=article_data[hierarchical_labels == 1]\n",
        "topword"
      ],
      "metadata": {
        "colab": {
          "base_uri": "https://localhost:8080/",
          "height": 444
        },
        "id": "a1tsZ0QHGajO",
        "outputId": "accc1b75-e971-4926-81c4-2d0298521faf"
      },
      "id": "a1tsZ0QHGajO",
      "execution_count": 63,
      "outputs": [
        {
          "output_type": "execute_result",
          "data": {
            "text/plain": [
              "      abandon  abc  ability  abortion  absolute  abstain  abu  abuse  accept  \\\n",
              "3           0    0        0         0         0        0    0      0       0   \n",
              "5           0    0        0         0         0        0    0      0       0   \n",
              "8           0    0        0         0         0        0    0      0       0   \n",
              "15          0    0        0         0         0        0    0      0       0   \n",
              "19          0    0        0         0         0        0    0      0       0   \n",
              "...       ...  ...      ...       ...       ...      ...  ...    ...     ...   \n",
              "3383        0    0        0         0         0        0    0      0       0   \n",
              "3390        0    0        0         0         0        0    0      0       0   \n",
              "3410        0    0        0         1         0        1    0      0       0   \n",
              "3415        0    0        0         0         0        0    0      0       0   \n",
              "3425        0    0        0         0         0        0    0      0       0   \n",
              "\n",
              "      access  ...  yeah  year  yesterday  york  youll  young  youre  youve  \\\n",
              "3          0  ...     0     0          2     0      0      1      0      0   \n",
              "5          0  ...     0     0          0     0      0      0      0      0   \n",
              "8          0  ...     0     0          0     0      0      0      0      0   \n",
              "15         0  ...     1     0          0     0      0      0      0      0   \n",
              "19         0  ...     0     0          2     0      0      0      2      0   \n",
              "...      ...  ...   ...   ...        ...   ...    ...    ...    ...    ...   \n",
              "3383       0  ...     0     1          0     0      0      0      0      0   \n",
              "3390       1  ...     0     1          0     0      0      0      0      0   \n",
              "3410       0  ...     0     1          0     0      0      1      0      0   \n",
              "3415       0  ...     0     0          0     0      0      0      0      0   \n",
              "3425       0  ...     0     0          0     0      0      0      0      0   \n",
              "\n",
              "      zogby  zone  \n",
              "3         0     0  \n",
              "5         0     0  \n",
              "8         0     0  \n",
              "15        0     0  \n",
              "19        0     0  \n",
              "...     ...   ...  \n",
              "3383      0     0  \n",
              "3390      0     0  \n",
              "3410      0     0  \n",
              "3415      0     0  \n",
              "3425      0     0  \n",
              "\n",
              "[803 rows x 1545 columns]"
            ],
            "text/html": [
              "\n",
              "  <div id=\"df-3e6afdf1-e1d6-4d83-a877-964bd6c21776\" class=\"colab-df-container\">\n",
              "    <div>\n",
              "<style scoped>\n",
              "    .dataframe tbody tr th:only-of-type {\n",
              "        vertical-align: middle;\n",
              "    }\n",
              "\n",
              "    .dataframe tbody tr th {\n",
              "        vertical-align: top;\n",
              "    }\n",
              "\n",
              "    .dataframe thead th {\n",
              "        text-align: right;\n",
              "    }\n",
              "</style>\n",
              "<table border=\"1\" class=\"dataframe\">\n",
              "  <thead>\n",
              "    <tr style=\"text-align: right;\">\n",
              "      <th></th>\n",
              "      <th>abandon</th>\n",
              "      <th>abc</th>\n",
              "      <th>ability</th>\n",
              "      <th>abortion</th>\n",
              "      <th>absolute</th>\n",
              "      <th>abstain</th>\n",
              "      <th>abu</th>\n",
              "      <th>abuse</th>\n",
              "      <th>accept</th>\n",
              "      <th>access</th>\n",
              "      <th>...</th>\n",
              "      <th>yeah</th>\n",
              "      <th>year</th>\n",
              "      <th>yesterday</th>\n",
              "      <th>york</th>\n",
              "      <th>youll</th>\n",
              "      <th>young</th>\n",
              "      <th>youre</th>\n",
              "      <th>youve</th>\n",
              "      <th>zogby</th>\n",
              "      <th>zone</th>\n",
              "    </tr>\n",
              "  </thead>\n",
              "  <tbody>\n",
              "    <tr>\n",
              "      <th>3</th>\n",
              "      <td>0</td>\n",
              "      <td>0</td>\n",
              "      <td>0</td>\n",
              "      <td>0</td>\n",
              "      <td>0</td>\n",
              "      <td>0</td>\n",
              "      <td>0</td>\n",
              "      <td>0</td>\n",
              "      <td>0</td>\n",
              "      <td>0</td>\n",
              "      <td>...</td>\n",
              "      <td>0</td>\n",
              "      <td>0</td>\n",
              "      <td>2</td>\n",
              "      <td>0</td>\n",
              "      <td>0</td>\n",
              "      <td>1</td>\n",
              "      <td>0</td>\n",
              "      <td>0</td>\n",
              "      <td>0</td>\n",
              "      <td>0</td>\n",
              "    </tr>\n",
              "    <tr>\n",
              "      <th>5</th>\n",
              "      <td>0</td>\n",
              "      <td>0</td>\n",
              "      <td>0</td>\n",
              "      <td>0</td>\n",
              "      <td>0</td>\n",
              "      <td>0</td>\n",
              "      <td>0</td>\n",
              "      <td>0</td>\n",
              "      <td>0</td>\n",
              "      <td>0</td>\n",
              "      <td>...</td>\n",
              "      <td>0</td>\n",
              "      <td>0</td>\n",
              "      <td>0</td>\n",
              "      <td>0</td>\n",
              "      <td>0</td>\n",
              "      <td>0</td>\n",
              "      <td>0</td>\n",
              "      <td>0</td>\n",
              "      <td>0</td>\n",
              "      <td>0</td>\n",
              "    </tr>\n",
              "    <tr>\n",
              "      <th>8</th>\n",
              "      <td>0</td>\n",
              "      <td>0</td>\n",
              "      <td>0</td>\n",
              "      <td>0</td>\n",
              "      <td>0</td>\n",
              "      <td>0</td>\n",
              "      <td>0</td>\n",
              "      <td>0</td>\n",
              "      <td>0</td>\n",
              "      <td>0</td>\n",
              "      <td>...</td>\n",
              "      <td>0</td>\n",
              "      <td>0</td>\n",
              "      <td>0</td>\n",
              "      <td>0</td>\n",
              "      <td>0</td>\n",
              "      <td>0</td>\n",
              "      <td>0</td>\n",
              "      <td>0</td>\n",
              "      <td>0</td>\n",
              "      <td>0</td>\n",
              "    </tr>\n",
              "    <tr>\n",
              "      <th>15</th>\n",
              "      <td>0</td>\n",
              "      <td>0</td>\n",
              "      <td>0</td>\n",
              "      <td>0</td>\n",
              "      <td>0</td>\n",
              "      <td>0</td>\n",
              "      <td>0</td>\n",
              "      <td>0</td>\n",
              "      <td>0</td>\n",
              "      <td>0</td>\n",
              "      <td>...</td>\n",
              "      <td>1</td>\n",
              "      <td>0</td>\n",
              "      <td>0</td>\n",
              "      <td>0</td>\n",
              "      <td>0</td>\n",
              "      <td>0</td>\n",
              "      <td>0</td>\n",
              "      <td>0</td>\n",
              "      <td>0</td>\n",
              "      <td>0</td>\n",
              "    </tr>\n",
              "    <tr>\n",
              "      <th>19</th>\n",
              "      <td>0</td>\n",
              "      <td>0</td>\n",
              "      <td>0</td>\n",
              "      <td>0</td>\n",
              "      <td>0</td>\n",
              "      <td>0</td>\n",
              "      <td>0</td>\n",
              "      <td>0</td>\n",
              "      <td>0</td>\n",
              "      <td>0</td>\n",
              "      <td>...</td>\n",
              "      <td>0</td>\n",
              "      <td>0</td>\n",
              "      <td>2</td>\n",
              "      <td>0</td>\n",
              "      <td>0</td>\n",
              "      <td>0</td>\n",
              "      <td>2</td>\n",
              "      <td>0</td>\n",
              "      <td>0</td>\n",
              "      <td>0</td>\n",
              "    </tr>\n",
              "    <tr>\n",
              "      <th>...</th>\n",
              "      <td>...</td>\n",
              "      <td>...</td>\n",
              "      <td>...</td>\n",
              "      <td>...</td>\n",
              "      <td>...</td>\n",
              "      <td>...</td>\n",
              "      <td>...</td>\n",
              "      <td>...</td>\n",
              "      <td>...</td>\n",
              "      <td>...</td>\n",
              "      <td>...</td>\n",
              "      <td>...</td>\n",
              "      <td>...</td>\n",
              "      <td>...</td>\n",
              "      <td>...</td>\n",
              "      <td>...</td>\n",
              "      <td>...</td>\n",
              "      <td>...</td>\n",
              "      <td>...</td>\n",
              "      <td>...</td>\n",
              "      <td>...</td>\n",
              "    </tr>\n",
              "    <tr>\n",
              "      <th>3383</th>\n",
              "      <td>0</td>\n",
              "      <td>0</td>\n",
              "      <td>0</td>\n",
              "      <td>0</td>\n",
              "      <td>0</td>\n",
              "      <td>0</td>\n",
              "      <td>0</td>\n",
              "      <td>0</td>\n",
              "      <td>0</td>\n",
              "      <td>0</td>\n",
              "      <td>...</td>\n",
              "      <td>0</td>\n",
              "      <td>1</td>\n",
              "      <td>0</td>\n",
              "      <td>0</td>\n",
              "      <td>0</td>\n",
              "      <td>0</td>\n",
              "      <td>0</td>\n",
              "      <td>0</td>\n",
              "      <td>0</td>\n",
              "      <td>0</td>\n",
              "    </tr>\n",
              "    <tr>\n",
              "      <th>3390</th>\n",
              "      <td>0</td>\n",
              "      <td>0</td>\n",
              "      <td>0</td>\n",
              "      <td>0</td>\n",
              "      <td>0</td>\n",
              "      <td>0</td>\n",
              "      <td>0</td>\n",
              "      <td>0</td>\n",
              "      <td>0</td>\n",
              "      <td>1</td>\n",
              "      <td>...</td>\n",
              "      <td>0</td>\n",
              "      <td>1</td>\n",
              "      <td>0</td>\n",
              "      <td>0</td>\n",
              "      <td>0</td>\n",
              "      <td>0</td>\n",
              "      <td>0</td>\n",
              "      <td>0</td>\n",
              "      <td>0</td>\n",
              "      <td>0</td>\n",
              "    </tr>\n",
              "    <tr>\n",
              "      <th>3410</th>\n",
              "      <td>0</td>\n",
              "      <td>0</td>\n",
              "      <td>0</td>\n",
              "      <td>1</td>\n",
              "      <td>0</td>\n",
              "      <td>1</td>\n",
              "      <td>0</td>\n",
              "      <td>0</td>\n",
              "      <td>0</td>\n",
              "      <td>0</td>\n",
              "      <td>...</td>\n",
              "      <td>0</td>\n",
              "      <td>1</td>\n",
              "      <td>0</td>\n",
              "      <td>0</td>\n",
              "      <td>0</td>\n",
              "      <td>1</td>\n",
              "      <td>0</td>\n",
              "      <td>0</td>\n",
              "      <td>0</td>\n",
              "      <td>0</td>\n",
              "    </tr>\n",
              "    <tr>\n",
              "      <th>3415</th>\n",
              "      <td>0</td>\n",
              "      <td>0</td>\n",
              "      <td>0</td>\n",
              "      <td>0</td>\n",
              "      <td>0</td>\n",
              "      <td>0</td>\n",
              "      <td>0</td>\n",
              "      <td>0</td>\n",
              "      <td>0</td>\n",
              "      <td>0</td>\n",
              "      <td>...</td>\n",
              "      <td>0</td>\n",
              "      <td>0</td>\n",
              "      <td>0</td>\n",
              "      <td>0</td>\n",
              "      <td>0</td>\n",
              "      <td>0</td>\n",
              "      <td>0</td>\n",
              "      <td>0</td>\n",
              "      <td>0</td>\n",
              "      <td>0</td>\n",
              "    </tr>\n",
              "    <tr>\n",
              "      <th>3425</th>\n",
              "      <td>0</td>\n",
              "      <td>0</td>\n",
              "      <td>0</td>\n",
              "      <td>0</td>\n",
              "      <td>0</td>\n",
              "      <td>0</td>\n",
              "      <td>0</td>\n",
              "      <td>0</td>\n",
              "      <td>0</td>\n",
              "      <td>0</td>\n",
              "      <td>...</td>\n",
              "      <td>0</td>\n",
              "      <td>0</td>\n",
              "      <td>0</td>\n",
              "      <td>0</td>\n",
              "      <td>0</td>\n",
              "      <td>0</td>\n",
              "      <td>0</td>\n",
              "      <td>0</td>\n",
              "      <td>0</td>\n",
              "      <td>0</td>\n",
              "    </tr>\n",
              "  </tbody>\n",
              "</table>\n",
              "<p>803 rows × 1545 columns</p>\n",
              "</div>\n",
              "    <div class=\"colab-df-buttons\">\n",
              "\n",
              "  <div class=\"colab-df-container\">\n",
              "    <button class=\"colab-df-convert\" onclick=\"convertToInteractive('df-3e6afdf1-e1d6-4d83-a877-964bd6c21776')\"\n",
              "            title=\"Convert this dataframe to an interactive table.\"\n",
              "            style=\"display:none;\">\n",
              "\n",
              "  <svg xmlns=\"http://www.w3.org/2000/svg\" height=\"24px\" viewBox=\"0 -960 960 960\">\n",
              "    <path d=\"M120-120v-720h720v720H120Zm60-500h600v-160H180v160Zm220 220h160v-160H400v160Zm0 220h160v-160H400v160ZM180-400h160v-160H180v160Zm440 0h160v-160H620v160ZM180-180h160v-160H180v160Zm440 0h160v-160H620v160Z\"/>\n",
              "  </svg>\n",
              "    </button>\n",
              "\n",
              "  <style>\n",
              "    .colab-df-container {\n",
              "      display:flex;\n",
              "      gap: 12px;\n",
              "    }\n",
              "\n",
              "    .colab-df-convert {\n",
              "      background-color: #E8F0FE;\n",
              "      border: none;\n",
              "      border-radius: 50%;\n",
              "      cursor: pointer;\n",
              "      display: none;\n",
              "      fill: #1967D2;\n",
              "      height: 32px;\n",
              "      padding: 0 0 0 0;\n",
              "      width: 32px;\n",
              "    }\n",
              "\n",
              "    .colab-df-convert:hover {\n",
              "      background-color: #E2EBFA;\n",
              "      box-shadow: 0px 1px 2px rgba(60, 64, 67, 0.3), 0px 1px 3px 1px rgba(60, 64, 67, 0.15);\n",
              "      fill: #174EA6;\n",
              "    }\n",
              "\n",
              "    .colab-df-buttons div {\n",
              "      margin-bottom: 4px;\n",
              "    }\n",
              "\n",
              "    [theme=dark] .colab-df-convert {\n",
              "      background-color: #3B4455;\n",
              "      fill: #D2E3FC;\n",
              "    }\n",
              "\n",
              "    [theme=dark] .colab-df-convert:hover {\n",
              "      background-color: #434B5C;\n",
              "      box-shadow: 0px 1px 3px 1px rgba(0, 0, 0, 0.15);\n",
              "      filter: drop-shadow(0px 1px 2px rgba(0, 0, 0, 0.3));\n",
              "      fill: #FFFFFF;\n",
              "    }\n",
              "  </style>\n",
              "\n",
              "    <script>\n",
              "      const buttonEl =\n",
              "        document.querySelector('#df-3e6afdf1-e1d6-4d83-a877-964bd6c21776 button.colab-df-convert');\n",
              "      buttonEl.style.display =\n",
              "        google.colab.kernel.accessAllowed ? 'block' : 'none';\n",
              "\n",
              "      async function convertToInteractive(key) {\n",
              "        const element = document.querySelector('#df-3e6afdf1-e1d6-4d83-a877-964bd6c21776');\n",
              "        const dataTable =\n",
              "          await google.colab.kernel.invokeFunction('convertToInteractive',\n",
              "                                                    [key], {});\n",
              "        if (!dataTable) return;\n",
              "\n",
              "        const docLinkHtml = 'Like what you see? Visit the ' +\n",
              "          '<a target=\"_blank\" href=https://colab.research.google.com/notebooks/data_table.ipynb>data table notebook</a>'\n",
              "          + ' to learn more about interactive tables.';\n",
              "        element.innerHTML = '';\n",
              "        dataTable['output_type'] = 'display_data';\n",
              "        await google.colab.output.renderOutput(dataTable, element);\n",
              "        const docLink = document.createElement('div');\n",
              "        docLink.innerHTML = docLinkHtml;\n",
              "        element.appendChild(docLink);\n",
              "      }\n",
              "    </script>\n",
              "  </div>\n",
              "\n",
              "\n",
              "<div id=\"df-798ea6af-a519-4017-b435-0463c2935086\">\n",
              "  <button class=\"colab-df-quickchart\" onclick=\"quickchart('df-798ea6af-a519-4017-b435-0463c2935086')\"\n",
              "            title=\"Suggest charts.\"\n",
              "            style=\"display:none;\">\n",
              "\n",
              "<svg xmlns=\"http://www.w3.org/2000/svg\" height=\"24px\"viewBox=\"0 0 24 24\"\n",
              "     width=\"24px\">\n",
              "    <g>\n",
              "        <path d=\"M19 3H5c-1.1 0-2 .9-2 2v14c0 1.1.9 2 2 2h14c1.1 0 2-.9 2-2V5c0-1.1-.9-2-2-2zM9 17H7v-7h2v7zm4 0h-2V7h2v10zm4 0h-2v-4h2v4z\"/>\n",
              "    </g>\n",
              "</svg>\n",
              "  </button>\n",
              "\n",
              "<style>\n",
              "  .colab-df-quickchart {\n",
              "      --bg-color: #E8F0FE;\n",
              "      --fill-color: #1967D2;\n",
              "      --hover-bg-color: #E2EBFA;\n",
              "      --hover-fill-color: #174EA6;\n",
              "      --disabled-fill-color: #AAA;\n",
              "      --disabled-bg-color: #DDD;\n",
              "  }\n",
              "\n",
              "  [theme=dark] .colab-df-quickchart {\n",
              "      --bg-color: #3B4455;\n",
              "      --fill-color: #D2E3FC;\n",
              "      --hover-bg-color: #434B5C;\n",
              "      --hover-fill-color: #FFFFFF;\n",
              "      --disabled-bg-color: #3B4455;\n",
              "      --disabled-fill-color: #666;\n",
              "  }\n",
              "\n",
              "  .colab-df-quickchart {\n",
              "    background-color: var(--bg-color);\n",
              "    border: none;\n",
              "    border-radius: 50%;\n",
              "    cursor: pointer;\n",
              "    display: none;\n",
              "    fill: var(--fill-color);\n",
              "    height: 32px;\n",
              "    padding: 0;\n",
              "    width: 32px;\n",
              "  }\n",
              "\n",
              "  .colab-df-quickchart:hover {\n",
              "    background-color: var(--hover-bg-color);\n",
              "    box-shadow: 0 1px 2px rgba(60, 64, 67, 0.3), 0 1px 3px 1px rgba(60, 64, 67, 0.15);\n",
              "    fill: var(--button-hover-fill-color);\n",
              "  }\n",
              "\n",
              "  .colab-df-quickchart-complete:disabled,\n",
              "  .colab-df-quickchart-complete:disabled:hover {\n",
              "    background-color: var(--disabled-bg-color);\n",
              "    fill: var(--disabled-fill-color);\n",
              "    box-shadow: none;\n",
              "  }\n",
              "\n",
              "  .colab-df-spinner {\n",
              "    border: 2px solid var(--fill-color);\n",
              "    border-color: transparent;\n",
              "    border-bottom-color: var(--fill-color);\n",
              "    animation:\n",
              "      spin 1s steps(1) infinite;\n",
              "  }\n",
              "\n",
              "  @keyframes spin {\n",
              "    0% {\n",
              "      border-color: transparent;\n",
              "      border-bottom-color: var(--fill-color);\n",
              "      border-left-color: var(--fill-color);\n",
              "    }\n",
              "    20% {\n",
              "      border-color: transparent;\n",
              "      border-left-color: var(--fill-color);\n",
              "      border-top-color: var(--fill-color);\n",
              "    }\n",
              "    30% {\n",
              "      border-color: transparent;\n",
              "      border-left-color: var(--fill-color);\n",
              "      border-top-color: var(--fill-color);\n",
              "      border-right-color: var(--fill-color);\n",
              "    }\n",
              "    40% {\n",
              "      border-color: transparent;\n",
              "      border-right-color: var(--fill-color);\n",
              "      border-top-color: var(--fill-color);\n",
              "    }\n",
              "    60% {\n",
              "      border-color: transparent;\n",
              "      border-right-color: var(--fill-color);\n",
              "    }\n",
              "    80% {\n",
              "      border-color: transparent;\n",
              "      border-right-color: var(--fill-color);\n",
              "      border-bottom-color: var(--fill-color);\n",
              "    }\n",
              "    90% {\n",
              "      border-color: transparent;\n",
              "      border-bottom-color: var(--fill-color);\n",
              "    }\n",
              "  }\n",
              "</style>\n",
              "\n",
              "  <script>\n",
              "    async function quickchart(key) {\n",
              "      const quickchartButtonEl =\n",
              "        document.querySelector('#' + key + ' button');\n",
              "      quickchartButtonEl.disabled = true;  // To prevent multiple clicks.\n",
              "      quickchartButtonEl.classList.add('colab-df-spinner');\n",
              "      try {\n",
              "        const charts = await google.colab.kernel.invokeFunction(\n",
              "            'suggestCharts', [key], {});\n",
              "      } catch (error) {\n",
              "        console.error('Error during call to suggestCharts:', error);\n",
              "      }\n",
              "      quickchartButtonEl.classList.remove('colab-df-spinner');\n",
              "      quickchartButtonEl.classList.add('colab-df-quickchart-complete');\n",
              "    }\n",
              "    (() => {\n",
              "      let quickchartButtonEl =\n",
              "        document.querySelector('#df-798ea6af-a519-4017-b435-0463c2935086 button');\n",
              "      quickchartButtonEl.style.display =\n",
              "        google.colab.kernel.accessAllowed ? 'block' : 'none';\n",
              "    })();\n",
              "  </script>\n",
              "</div>\n",
              "    </div>\n",
              "  </div>\n"
            ]
          },
          "metadata": {},
          "execution_count": 63
        }
      ]
    },
    {
      "cell_type": "code",
      "source": [
        "def corpus_word_clouds(cluster_id):\n",
        "  topwords=article_data[hierarchical_labels == 1].sum()\n",
        "  word_\n"
      ],
      "metadata": {
        "colab": {
          "base_uri": "https://localhost:8080/"
        },
        "id": "--AVCEROE_Za",
        "outputId": "29b16210-e0e4-4e51-c13a-8af5e43d84a5"
      },
      "id": "--AVCEROE_Za",
      "execution_count": 49,
      "outputs": [
        {
          "output_type": "execute_result",
          "data": {
            "text/plain": [
              "abandon      17\n",
              "abc          26\n",
              "ability      29\n",
              "abortion     46\n",
              "absolute     13\n",
              "           ... \n",
              "young        28\n",
              "youre        53\n",
              "youve        22\n",
              "zogby       164\n",
              "zone         11\n",
              "Length: 1545, dtype: int64"
            ]
          },
          "metadata": {},
          "execution_count": 49
        }
      ]
    },
    {
      "cell_type": "markdown",
      "id": "f6a7eaf0",
      "metadata": {
        "id": "f6a7eaf0"
      },
      "source": [
        "# 5: Determine clusters related to Iraq War and Democratic Party"
      ]
    },
    {
      "cell_type": "code",
      "execution_count": 29,
      "id": "7c67c50a",
      "metadata": {
        "colab": {
          "base_uri": "https://localhost:8080/"
        },
        "id": "7c67c50a",
        "outputId": "50a74c35-4f57-4984-ccdf-c715b8f6b26e"
      },
      "outputs": [
        {
          "output_type": "stream",
          "name": "stdout",
          "text": [
            "Top 6 words in cluster 1\n",
            "poll          2.429639\n",
            "kerry         2.012453\n",
            "bush          1.922790\n",
            "democrat      1.823163\n",
            "republican    1.328767\n",
            "elect         1.165629\n",
            "dtype: float64\n",
            "\n",
            "\n"
          ]
        }
      ],
      "source": [
        "# Define a function to find top words in a specific cluster\n",
        "def top_words_in_cluster(data, cluster_number, labels, num_words=6):\n",
        "    grouped_data = data.groupby(labels)\n",
        "    cluster_means = grouped_data.get_group(cluster_number).mean().sort_values(ascending=False)\n",
        "    top_words = cluster_means.head(num_words)\n",
        "    print(\"Top \" + str(num_words) + \" words in cluster \" + str(int(cluster_number)))\n",
        "    print(top_words)\n",
        "    print(\"\\n\")\n",
        "\n",
        "top_words_in_cluster(article_data, 1, hierarchical_labels, 6)"
      ]
    },
    {
      "cell_type": "code",
      "execution_count": 30,
      "id": "81f2efed",
      "metadata": {
        "scrolled": true,
        "id": "81f2efed",
        "outputId": "cabfefcf-bd75-4fa2-875c-d394f422236f",
        "colab": {
          "base_uri": "https://localhost:8080/"
        }
      },
      "outputs": [
        {
          "output_type": "stream",
          "name": "stdout",
          "text": [
            "Top 6 words in cluster 1\n",
            "poll          2.429639\n",
            "kerry         2.012453\n",
            "bush          1.922790\n",
            "democrat      1.823163\n",
            "republican    1.328767\n",
            "elect         1.165629\n",
            "dtype: float64\n",
            "\n",
            "\n",
            "Top 6 words in cluster 2\n",
            "kerry       8.101796\n",
            "bush        7.574850\n",
            "campaign    1.862275\n",
            "poll        1.736527\n",
            "presided    1.616766\n",
            "democrat    1.389222\n",
            "dtype: float64\n",
            "\n",
            "\n",
            "Top 6 words in cluster 3\n",
            "bush          1.546281\n",
            "democrat      0.659852\n",
            "kerry         0.607609\n",
            "state         0.542873\n",
            "presided      0.526973\n",
            "republican    0.519591\n",
            "dtype: float64\n",
            "\n",
            "\n",
            "Top 6 words in cluster 4\n",
            "november     10.376543\n",
            "poll          4.851852\n",
            "vote          4.376543\n",
            "challenge     4.104938\n",
            "democrat      2.858025\n",
            "bush          2.858025\n",
            "dtype: float64\n",
            "\n",
            "\n",
            "Top 6 words in cluster 5\n",
            "bush              4.777778\n",
            "iraq              3.425926\n",
            "war               2.470370\n",
            "administration    2.225926\n",
            "american          1.633333\n",
            "presided          1.488889\n",
            "dtype: float64\n",
            "\n",
            "\n",
            "Top 6 words in cluster 6\n",
            "dean         12.309091\n",
            "kerry         5.345455\n",
            "democrat      3.545455\n",
            "edward        2.818182\n",
            "candidate     2.727273\n",
            "gephardt      2.672727\n",
            "dtype: float64\n",
            "\n",
            "\n",
            "Top 6 words in cluster 7\n",
            "democrat      12.38\n",
            "parties        6.34\n",
            "state          5.74\n",
            "republican     5.64\n",
            "senate         3.30\n",
            "seat           3.14\n",
            "dtype: float64\n",
            "\n",
            "\n"
          ]
        }
      ],
      "source": [
        "# Looping through all the clusters to get top 6 frequent words in each cluster.\n",
        "for i in range(1,8):\n",
        "    top_words_in_cluster(article_data, i, hierarchical_labels, 6)"
      ]
    },
    {
      "cell_type": "markdown",
      "id": "bed643b0",
      "metadata": {
        "id": "bed643b0"
      },
      "source": [
        "According to top 6 frequent words in the 7 clusters, Cluster 5 corresponds to the Iraq War since it has most frequent words related to Iraq War such as 'Iraq' and 'war', and Cluster 6 is related to the Democratic Party since it has most frequent words related to Democratic party such as 'democrat', 'kerry', 'candidate'."
      ]
    },
    {
      "cell_type": "markdown",
      "id": "69ed3a57",
      "metadata": {
        "id": "69ed3a57"
      },
      "source": [
        "# 6. Clustering using K-Means"
      ]
    },
    {
      "cell_type": "code",
      "execution_count": 32,
      "id": "63148e73",
      "metadata": {
        "scrolled": true,
        "id": "63148e73",
        "colab": {
          "base_uri": "https://localhost:8080/"
        },
        "outputId": "9a11bb46-1d7d-4d83-de85-08cc0f547eb3"
      },
      "outputs": [
        {
          "output_type": "stream",
          "name": "stderr",
          "text": [
            "/usr/local/lib/python3.10/dist-packages/sklearn/cluster/_kmeans.py:870: FutureWarning: The default value of `n_init` will change from 10 to 'auto' in 1.4. Set the value of `n_init` explicitly to suppress the warning\n",
            "  warnings.warn(\n"
          ]
        }
      ],
      "source": [
        "# Perform clustering using K-Means with 7 clusters\n",
        "num_clusters = 7\n",
        "kmeans_clustering = KMeans(n_clusters=num_clusters, random_state=1000)\n",
        "kmeans_clustering.fit(article_data)\n",
        "kmeans_labels = kmeans_clustering.labels_+1\n",
        "kmeans_cluster_counts = pd.Series(kmeans_labels).value_counts()"
      ]
    },
    {
      "cell_type": "code",
      "execution_count": 33,
      "id": "be3dd633",
      "metadata": {
        "id": "be3dd633",
        "outputId": "3c133b77-8cb8-48ab-98d1-6d8f69fb057f",
        "colab": {
          "base_uri": "https://localhost:8080/"
        }
      },
      "outputs": [
        {
          "output_type": "execute_result",
          "data": {
            "text/plain": [
              "2    1937\n",
              "4     368\n",
              "1     339\n",
              "3     330\n",
              "7     264\n",
              "5     153\n",
              "6      39\n",
              "dtype: int64"
            ]
          },
          "metadata": {},
          "execution_count": 33
        }
      ],
      "source": [
        "kmeans_cluster_counts"
      ]
    },
    {
      "cell_type": "code",
      "execution_count": 35,
      "id": "378a6a9b",
      "metadata": {
        "id": "378a6a9b",
        "outputId": "e6a97849-ed4d-4007-c84d-9dbd3047a015",
        "colab": {
          "base_uri": "https://localhost:8080/"
        }
      },
      "outputs": [
        {
          "output_type": "stream",
          "name": "stdout",
          "text": [
            "Number of observations in cluster 3: 330\n",
            "Cluster with the most observations: 2 1937\n",
            "Cluster with the fewest observations: 6 39\n"
          ]
        }
      ],
      "source": [
        "# Number of observations in cluster 3\n",
        "print(\"Number of observations in cluster 3:\", kmeans_cluster_counts[3])\n",
        "\n",
        "# Cluster with the most observations\n",
        "most_observed_cluster = kmeans_cluster_counts.idxmax()\n",
        "print(\"Cluster with the most observations:\", most_observed_cluster, kmeans_cluster_counts[most_observed_cluster]) # Adding 1 to the index of the cluster number in order to get the actual cluster.\n",
        "\n",
        "# Cluster with the fewest observations\n",
        "fewest_observed_cluster = kmeans_cluster_counts.idxmin()\n",
        "print(\"Cluster with the fewest observations:\", fewest_observed_cluster, kmeans_cluster_counts[fewest_observed_cluster]) # Adding 1 to the index of the cluster number in order to get the actual cluster."
      ]
    },
    {
      "cell_type": "markdown",
      "id": "6c99197f",
      "metadata": {
        "id": "6c99197f"
      },
      "source": [
        "# 7. Most frequent words in K-Means clusters"
      ]
    },
    {
      "cell_type": "code",
      "execution_count": 65,
      "id": "26c03a4a",
      "metadata": {
        "id": "26c03a4a",
        "outputId": "86bc85c7-0603-43ea-c6a6-50ac95b4aafa",
        "colab": {
          "base_uri": "https://localhost:8080/"
        }
      },
      "outputs": [
        {
          "output_type": "stream",
          "name": "stdout",
          "text": [
            "Top words in cluster 1:\n",
            "democrat      3.064897\n",
            "republican    2.920354\n",
            "state         2.094395\n",
            "elect         1.970501\n",
            "parties       1.793510\n",
            "vote          1.643068\n",
            "dtype: float64\n",
            "\n",
            "\n",
            "Top words in cluster 2:\n",
            "bush        1.183789\n",
            "kerry       0.799690\n",
            "poll        0.724832\n",
            "democrat    0.631905\n",
            "general     0.505421\n",
            "elect       0.488384\n",
            "dtype: float64\n",
            "\n",
            "\n",
            "Top words in cluster 3:\n",
            "november     10.369697\n",
            "poll          4.863636\n",
            "vote          4.439394\n",
            "challenge     4.127273\n",
            "bush          3.081818\n",
            "democrat      2.866667\n",
            "dtype: float64\n",
            "\n",
            "\n",
            "Top words in cluster 4:\n",
            "bush        8.635870\n",
            "kerry       4.934783\n",
            "poll        2.160326\n",
            "presided    1.853261\n",
            "campaign    1.331522\n",
            "democrat    1.312500\n",
            "dtype: float64\n",
            "\n",
            "\n",
            "Top words in cluster 5:\n",
            "dean        7.725490\n",
            "kerry       5.261438\n",
            "clark       2.993464\n",
            "edward      2.862745\n",
            "democrat    2.633987\n",
            "poll        2.326797\n",
            "dtype: float64\n",
            "\n",
            "\n",
            "Top words in cluster 6:\n",
            "democrat      15.615385\n",
            "parties        6.589744\n",
            "republican     6.153846\n",
            "state          4.846154\n",
            "senate         4.410256\n",
            "seat           4.282051\n",
            "dtype: float64\n",
            "\n",
            "\n",
            "Top words in cluster 7:\n",
            "iraq              4.215909\n",
            "bush              3.136364\n",
            "war               3.000000\n",
            "administration    1.863636\n",
            "american          1.772727\n",
            "iraqi             1.643939\n",
            "dtype: float64\n",
            "\n",
            "\n"
          ]
        }
      ],
      "source": [
        "def top_words_in_kmeans_cluster(data, labels, cluster_num, num_words=6):\n",
        "    cluster_means = data[labels == cluster_num].mean().sort_values(ascending=False)\n",
        "    top_words = cluster_means.head(num_words)\n",
        "    return top_words\n",
        "\n",
        "for i in range(1,num_clusters+1):\n",
        "    top_words = top_words_in_kmeans_cluster(article_data, kmeans_labels, i)\n",
        "    print(f\"Top words in cluster {i}:\")\n",
        "    print(top_words)\n",
        "    print(\"\\n\")"
      ]
    },
    {
      "cell_type": "markdown",
      "id": "bbbc585a",
      "metadata": {
        "id": "bbbc585a"
      },
      "source": [
        "Determine which K-Means clusters correspond to the Iraq War and Democratic Party"
      ]
    },
    {
      "cell_type": "markdown",
      "id": "c31f825e",
      "metadata": {
        "id": "c31f825e"
      },
      "source": [
        "Cluster 5 corresponds to the Iraq War since it has terms like 'iraq', 'war' in it's most frequent words, Clusters 1, 2, 3, and 6 has almost terms related to democrat party such as 'democrat' and 'Kerry' but among all cluster 6 is more suitable for democratic party because the term 'kerry', the presidential candidate for democratic party, has the highest mean frequency in cluster 6."
      ]
    },
    {
      "cell_type": "markdown",
      "id": "9f6b0a8e",
      "metadata": {
        "id": "9f6b0a8e"
      },
      "source": [
        "# 8. Correspondence between Hierarchical Clusters and K-Means Clusters"
      ]
    },
    {
      "cell_type": "code",
      "execution_count": 38,
      "id": "6bc28b63",
      "metadata": {
        "scrolled": true,
        "id": "6bc28b63",
        "outputId": "67fa027b-1e0c-4aad-fc57-bcf08c716900",
        "colab": {
          "base_uri": "https://localhost:8080/"
        }
      },
      "outputs": [
        {
          "output_type": "stream",
          "name": "stdout",
          "text": [
            "col_0    1     2    3    4   5   6    7\n",
            "row_0                                  \n",
            "1      240   367    1   97  89   4    5\n",
            "2        2    38    4  114   6   0    3\n",
            "3       75  1509    0   94   4   0   79\n",
            "4        0     0  324    0   0   0    0\n",
            "5       10    23    0   59   0   1  177\n",
            "6        0     0    0    0  54   1    0\n",
            "7       12     0    1    4   0  33    0\n"
          ]
        }
      ],
      "source": [
        "# Create a contingency table to compare Hierarchical Clusters and K-Means Clusters\n",
        "contingency_table = pd.crosstab(hierarchical_labels, kmeans_labels)\n",
        "print(contingency_table)"
      ]
    },
    {
      "cell_type": "code",
      "execution_count": 39,
      "id": "a84c1a2f",
      "metadata": {
        "id": "a84c1a2f"
      },
      "outputs": [],
      "source": [
        "# Find the Hierarchical Cluster corresponding to K-Means Cluster 2\n",
        "corresponding_hierarchical_cluster_2 = contingency_table[2].idxmax()"
      ]
    },
    {
      "cell_type": "code",
      "execution_count": 40,
      "id": "f7d96801",
      "metadata": {
        "id": "f7d96801"
      },
      "outputs": [],
      "source": [
        "# Find the Hierarchical Cluster corresponding to K-Means Cluster 3\n",
        "corresponding_hierarchical_cluster_3 = contingency_table[3].idxmax()"
      ]
    },
    {
      "cell_type": "code",
      "execution_count": 43,
      "id": "3e63f21a",
      "metadata": {
        "id": "3e63f21a",
        "outputId": "7a4dabdc-f2ce-494f-a41c-b9ed5f1fe156",
        "colab": {
          "base_uri": "https://localhost:8080/"
        }
      },
      "outputs": [
        {
          "output_type": "stream",
          "name": "stdout",
          "text": [
            "Corresponding Hierarchical Cluster to K-Means Cluster 2: 3\n",
            "Corresponding Hierarchical Cluster to K-Means Cluster 3: 4\n"
          ]
        }
      ],
      "source": [
        "print(\"Corresponding Hierarchical Cluster to K-Means Cluster 2:\", corresponding_hierarchical_cluster_2 )\n",
        "print(\"Corresponding Hierarchical Cluster to K-Means Cluster 3:\", corresponding_hierarchical_cluster_3 )"
      ]
    },
    {
      "cell_type": "code",
      "execution_count": 44,
      "id": "d36805f4",
      "metadata": {
        "id": "d36805f4"
      },
      "outputs": [],
      "source": [
        "# Therefore, the best hierarchical clusters corresponding to k-means cluster 2 and 3 are 3 and 4 repectively."
      ]
    },
    {
      "cell_type": "code",
      "source": [],
      "metadata": {
        "id": "JBG3Vtx680E9"
      },
      "id": "JBG3Vtx680E9",
      "execution_count": null,
      "outputs": []
    }
  ],
  "metadata": {
    "kernelspec": {
      "display_name": "Python 3 (ipykernel)",
      "language": "python",
      "name": "python3"
    },
    "language_info": {
      "codemirror_mode": {
        "name": "ipython",
        "version": 3
      },
      "file_extension": ".py",
      "mimetype": "text/x-python",
      "name": "python",
      "nbconvert_exporter": "python",
      "pygments_lexer": "ipython3",
      "version": "3.9.13"
    },
    "colab": {
      "provenance": []
    }
  },
  "nbformat": 4,
  "nbformat_minor": 5
}